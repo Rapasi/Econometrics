{
 "cells": [
  {
   "cell_type": "code",
   "execution_count": 6,
   "id": "242c61af-e039-4d93-8663-9451b086b993",
   "metadata": {},
   "outputs": [
    {
     "name": "stderr",
     "output_type": "stream",
     "text": [
      "Warning message:\n",
      "\"package 'vars' was built under R version 4.3.3\"\n",
      "Loading required package: MASS\n",
      "\n",
      "Loading required package: strucchange\n",
      "\n",
      "Warning message:\n",
      "\"package 'strucchange' was built under R version 4.3.3\"\n",
      "Loading required package: zoo\n",
      "\n",
      "\n",
      "Attaching package: 'zoo'\n",
      "\n",
      "\n",
      "The following objects are masked from 'package:base':\n",
      "\n",
      "    as.Date, as.Date.numeric\n",
      "\n",
      "\n",
      "Loading required package: sandwich\n",
      "\n",
      "Loading required package: urca\n",
      "\n",
      "Warning message:\n",
      "\"package 'urca' was built under R version 4.3.3\"\n",
      "Loading required package: lmtest\n",
      "\n"
     ]
    }
   ],
   "source": [
    "library(openxlsx)\n",
    "library(vars)"
   ]
  },
  {
   "cell_type": "code",
   "execution_count": 11,
   "id": "480a8c0e-a6bb-4569-bcb7-09c5bf4c988d",
   "metadata": {},
   "outputs": [
    {
     "data": {
      "text/html": [
       "<table class=\"dataframe\">\n",
       "<caption>A data.frame: 6 × 3</caption>\n",
       "<thead>\n",
       "\t<tr><th></th><th scope=col>Year</th><th scope=col>LogPerCapitaGDP</th><th scope=col>LogPeerCapitaSO2</th></tr>\n",
       "\t<tr><th></th><th scope=col>&lt;dbl&gt;</th><th scope=col>&lt;dbl&gt;</th><th scope=col>&lt;dbl&gt;</th></tr>\n",
       "</thead>\n",
       "<tbody>\n",
       "\t<tr><th scope=row>1</th><td>1870</td><td>8.067912</td><td>3.344441</td></tr>\n",
       "\t<tr><th scope=row>2</th><td>1871</td><td>8.111290</td><td>3.391472</td></tr>\n",
       "\t<tr><th scope=row>3</th><td>1872</td><td>8.107469</td><td>3.436332</td></tr>\n",
       "\t<tr><th scope=row>4</th><td>1873</td><td>8.121093</td><td>3.477198</td></tr>\n",
       "\t<tr><th scope=row>5</th><td>1874</td><td>8.127536</td><td>3.438743</td></tr>\n",
       "\t<tr><th scope=row>6</th><td>1875</td><td>8.141384</td><td>3.480569</td></tr>\n",
       "</tbody>\n",
       "</table>\n"
      ],
      "text/latex": [
       "A data.frame: 6 × 3\n",
       "\\begin{tabular}{r|lll}\n",
       "  & Year & LogPerCapitaGDP & LogPeerCapitaSO2\\\\\n",
       "  & <dbl> & <dbl> & <dbl>\\\\\n",
       "\\hline\n",
       "\t1 & 1870 & 8.067912 & 3.344441\\\\\n",
       "\t2 & 1871 & 8.111290 & 3.391472\\\\\n",
       "\t3 & 1872 & 8.107469 & 3.436332\\\\\n",
       "\t4 & 1873 & 8.121093 & 3.477198\\\\\n",
       "\t5 & 1874 & 8.127536 & 3.438743\\\\\n",
       "\t6 & 1875 & 8.141384 & 3.480569\\\\\n",
       "\\end{tabular}\n"
      ],
      "text/markdown": [
       "\n",
       "A data.frame: 6 × 3\n",
       "\n",
       "| <!--/--> | Year &lt;dbl&gt; | LogPerCapitaGDP &lt;dbl&gt; | LogPeerCapitaSO2 &lt;dbl&gt; |\n",
       "|---|---|---|---|\n",
       "| 1 | 1870 | 8.067912 | 3.344441 |\n",
       "| 2 | 1871 | 8.111290 | 3.391472 |\n",
       "| 3 | 1872 | 8.107469 | 3.436332 |\n",
       "| 4 | 1873 | 8.121093 | 3.477198 |\n",
       "| 5 | 1874 | 8.127536 | 3.438743 |\n",
       "| 6 | 1875 | 8.141384 | 3.480569 |\n",
       "\n"
      ],
      "text/plain": [
       "  Year LogPerCapitaGDP LogPeerCapitaSO2\n",
       "1 1870 8.067912        3.344441        \n",
       "2 1871 8.111290        3.391472        \n",
       "3 1872 8.107469        3.436332        \n",
       "4 1873 8.121093        3.477198        \n",
       "5 1874 8.127536        3.438743        \n",
       "6 1875 8.141384        3.480569        "
      ]
     },
     "metadata": {},
     "output_type": "display_data"
    }
   ],
   "source": [
    "data <- read.xlsx(xlsxFile=\"MWdata_UK.xlsx\")\n",
    "head(data)"
   ]
  },
  {
   "cell_type": "code",
   "execution_count": 12,
   "id": "f6b2e27a-8d3e-417a-8c1d-caeaaf4dda39",
   "metadata": {},
   "outputs": [],
   "source": [
    "colnames(data) <- c(\"Year\",\"GDP\",\"SO2\")"
   ]
  },
  {
   "cell_type": "code",
   "execution_count": 14,
   "id": "2f59ce99-08bf-4c33-a488-1962b23e4d49",
   "metadata": {},
   "outputs": [
    {
     "data": {
      "text/html": [
       "<table class=\"dataframe\">\n",
       "<caption>A data.frame: 6 × 3</caption>\n",
       "<thead>\n",
       "\t<tr><th></th><th scope=col>Year</th><th scope=col>GDP</th><th scope=col>SO2</th></tr>\n",
       "\t<tr><th></th><th scope=col>&lt;dbl&gt;</th><th scope=col>&lt;dbl&gt;</th><th scope=col>&lt;dbl&gt;</th></tr>\n",
       "</thead>\n",
       "<tbody>\n",
       "\t<tr><th scope=row>1</th><td>1870</td><td>8.067912</td><td>3.344441</td></tr>\n",
       "\t<tr><th scope=row>2</th><td>1871</td><td>8.111290</td><td>3.391472</td></tr>\n",
       "\t<tr><th scope=row>3</th><td>1872</td><td>8.107469</td><td>3.436332</td></tr>\n",
       "\t<tr><th scope=row>4</th><td>1873</td><td>8.121093</td><td>3.477198</td></tr>\n",
       "\t<tr><th scope=row>5</th><td>1874</td><td>8.127536</td><td>3.438743</td></tr>\n",
       "\t<tr><th scope=row>6</th><td>1875</td><td>8.141384</td><td>3.480569</td></tr>\n",
       "</tbody>\n",
       "</table>\n"
      ],
      "text/latex": [
       "A data.frame: 6 × 3\n",
       "\\begin{tabular}{r|lll}\n",
       "  & Year & GDP & SO2\\\\\n",
       "  & <dbl> & <dbl> & <dbl>\\\\\n",
       "\\hline\n",
       "\t1 & 1870 & 8.067912 & 3.344441\\\\\n",
       "\t2 & 1871 & 8.111290 & 3.391472\\\\\n",
       "\t3 & 1872 & 8.107469 & 3.436332\\\\\n",
       "\t4 & 1873 & 8.121093 & 3.477198\\\\\n",
       "\t5 & 1874 & 8.127536 & 3.438743\\\\\n",
       "\t6 & 1875 & 8.141384 & 3.480569\\\\\n",
       "\\end{tabular}\n"
      ],
      "text/markdown": [
       "\n",
       "A data.frame: 6 × 3\n",
       "\n",
       "| <!--/--> | Year &lt;dbl&gt; | GDP &lt;dbl&gt; | SO2 &lt;dbl&gt; |\n",
       "|---|---|---|---|\n",
       "| 1 | 1870 | 8.067912 | 3.344441 |\n",
       "| 2 | 1871 | 8.111290 | 3.391472 |\n",
       "| 3 | 1872 | 8.107469 | 3.436332 |\n",
       "| 4 | 1873 | 8.121093 | 3.477198 |\n",
       "| 5 | 1874 | 8.127536 | 3.438743 |\n",
       "| 6 | 1875 | 8.141384 | 3.480569 |\n",
       "\n"
      ],
      "text/plain": [
       "  Year GDP      SO2     \n",
       "1 1870 8.067912 3.344441\n",
       "2 1871 8.111290 3.391472\n",
       "3 1872 8.107469 3.436332\n",
       "4 1873 8.121093 3.477198\n",
       "5 1874 8.127536 3.438743\n",
       "6 1875 8.141384 3.480569"
      ]
     },
     "metadata": {},
     "output_type": "display_data"
    }
   ],
   "source": [
    "head(data)"
   ]
  },
  {
   "cell_type": "code",
   "execution_count": 37,
   "id": "72ffa11b-db25-4986-80b3-f7f65a06ef95",
   "metadata": {},
   "outputs": [],
   "source": [
    "Y <- ts(data[,2:3], frequency=1, start=1870)\n",
    "Y <- diff(Y)"
   ]
  },
  {
   "cell_type": "code",
   "execution_count": 38,
   "id": "5a053467-1462-470e-9628-40eb75beda74",
   "metadata": {},
   "outputs": [
    {
     "data": {
      "image/png": "[encoded data removed]",
      "text/plain": [
       "plot without title"
      ]
     },
     "metadata": {
      "image/png": {
       "height": 420,
       "width": 420
      }
     },
     "output_type": "display_data"
    }
   ],
   "source": [
    "plot(Y)"
   ]
  },
  {
   "cell_type": "code",
   "execution_count": 39,
   "id": "58d78481-ec46-45c5-8b1f-33951955156d",
   "metadata": {},
   "outputs": [
    {
     "data": {
      "text/html": [
       "<dl>\n",
       "\t<dt>$selection</dt>\n",
       "\t\t<dd><style>\n",
       ".dl-inline {width: auto; margin:0; padding: 0}\n",
       ".dl-inline>dt, .dl-inline>dd {float: none; width: auto; display: inline-block}\n",
       ".dl-inline>dt::after {content: \":\\0020\"; padding-right: .5ex}\n",
       ".dl-inline>dt:not(:first-of-type) {padding-left: .5ex}\n",
       "</style><dl class=dl-inline><dt>AIC(n)</dt><dd>15</dd><dt>HQ(n)</dt><dd>15</dd><dt>SC(n)</dt><dd>15</dd><dt>FPE(n)</dt><dd>16</dd></dl>\n",
       "</dd>\n",
       "\t<dt>$criteria</dt>\n",
       "\t\t<dd><table class=\"dataframe\">\n",
       "<caption>A matrix: 4 × 100 of type dbl</caption>\n",
       "<thead>\n",
       "\t<tr><th></th><th scope=col>1</th><th scope=col>2</th><th scope=col>3</th><th scope=col>4</th><th scope=col>5</th><th scope=col>6</th><th scope=col>7</th><th scope=col>8</th><th scope=col>9</th><th scope=col>10</th><th scope=col>⋯</th><th scope=col>91</th><th scope=col>92</th><th scope=col>93</th><th scope=col>94</th><th scope=col>95</th><th scope=col>96</th><th scope=col>97</th><th scope=col>98</th><th scope=col>99</th><th scope=col>100</th></tr>\n",
       "</thead>\n",
       "<tbody>\n",
       "\t<tr><th scope=row>AIC(n)</th><td>-1.316773e+01</td><td>-1.322697e+01</td><td>-1.302504e+01</td><td>-1.289229e+01</td><td>-1.267817e+01</td><td>-1.270351e+01</td><td>-1.258651e+01</td><td>-1.259311e+01</td><td>-1.248017e+01</td><td>-1.254113e+01</td><td>⋯</td><td>-Inf</td><td>-Inf</td><td>-Inf</td><td>-Inf</td><td>-Inf</td><td>-Inf</td><td>-Inf</td><td>-Inf</td><td>-Inf</td><td>-Inf</td></tr>\n",
       "\t<tr><th scope=row>HQ(n)</th><td>-1.307726e+01</td><td>-1.307618e+01</td><td>-1.281393e+01</td><td>-1.262087e+01</td><td>-1.234643e+01</td><td>-1.231146e+01</td><td>-1.213415e+01</td><td>-1.208043e+01</td><td>-1.190717e+01</td><td>-1.190782e+01</td><td>⋯</td><td>-Inf</td><td>-Inf</td><td>-Inf</td><td>-Inf</td><td>-Inf</td><td>-Inf</td><td>-Inf</td><td>-Inf</td><td>-Inf</td><td>-Inf</td></tr>\n",
       "\t<tr><th scope=row>SC(n)</th><td>-1.289019e+01</td><td>-1.276439e+01</td><td>-1.237743e+01</td><td>-1.205965e+01</td><td>-1.166050e+01</td><td>-1.150081e+01</td><td>-1.119878e+01</td><td>-1.102035e+01</td><td>-1.072238e+01</td><td>-1.059831e+01</td><td>⋯</td><td>-Inf</td><td>-Inf</td><td>-Inf</td><td>-Inf</td><td>-Inf</td><td>-Inf</td><td>-Inf</td><td>-Inf</td><td>-Inf</td><td>-Inf</td></tr>\n",
       "\t<tr><th scope=row>FPE(n)</th><td> 1.913610e-06</td><td> 1.811632e-06</td><td> 2.239633e-06</td><td> 2.605448e-06</td><td> 3.326310e-06</td><td> 3.394694e-06</td><td> 4.078060e-06</td><td> 4.451033e-06</td><td> 5.685735e-06</td><td> 6.436721e-06</td><td>⋯</td><td>   0</td><td>   0</td><td>   0</td><td>   0</td><td>   0</td><td>   0</td><td>   0</td><td>   0</td><td>   0</td><td>   0</td></tr>\n",
       "</tbody>\n",
       "</table>\n",
       "</dd>\n",
       "</dl>\n"
      ],
      "text/latex": [
       "\\begin{description}\n",
       "\\item[\\$selection] \\begin{description*}\n",
       "\\item[AIC(n)] 15\n",
       "\\item[HQ(n)] 15\n",
       "\\item[SC(n)] 15\n",
       "\\item[FPE(n)] 16\n",
       "\\end{description*}\n",
       "\n",
       "\\item[\\$criteria] A matrix: 4 × 100 of type dbl\n",
       "\\begin{tabular}{r|lllllllllllllllllllll}\n",
       "  & 1 & 2 & 3 & 4 & 5 & 6 & 7 & 8 & 9 & 10 & ⋯ & 91 & 92 & 93 & 94 & 95 & 96 & 97 & 98 & 99 & 100\\\\\n",
       "\\hline\n",
       "\tAIC(n) & -1.316773e+01 & -1.322697e+01 & -1.302504e+01 & -1.289229e+01 & -1.267817e+01 & -1.270351e+01 & -1.258651e+01 & -1.259311e+01 & -1.248017e+01 & -1.254113e+01 & ⋯ & -Inf & -Inf & -Inf & -Inf & -Inf & -Inf & -Inf & -Inf & -Inf & -Inf\\\\\n",
       "\tHQ(n) & -1.307726e+01 & -1.307618e+01 & -1.281393e+01 & -1.262087e+01 & -1.234643e+01 & -1.231146e+01 & -1.213415e+01 & -1.208043e+01 & -1.190717e+01 & -1.190782e+01 & ⋯ & -Inf & -Inf & -Inf & -Inf & -Inf & -Inf & -Inf & -Inf & -Inf & -Inf\\\\\n",
       "\tSC(n) & -1.289019e+01 & -1.276439e+01 & -1.237743e+01 & -1.205965e+01 & -1.166050e+01 & -1.150081e+01 & -1.119878e+01 & -1.102035e+01 & -1.072238e+01 & -1.059831e+01 & ⋯ & -Inf & -Inf & -Inf & -Inf & -Inf & -Inf & -Inf & -Inf & -Inf & -Inf\\\\\n",
       "\tFPE(n) &  1.913610e-06 &  1.811632e-06 &  2.239633e-06 &  2.605448e-06 &  3.326310e-06 &  3.394694e-06 &  4.078060e-06 &  4.451033e-06 &  5.685735e-06 &  6.436721e-06 & ⋯ &    0 &    0 &    0 &    0 &    0 &    0 &    0 &    0 &    0 &    0\\\\\n",
       "\\end{tabular}\n",
       "\n",
       "\\end{description}\n"
      ],
      "text/markdown": [
       "$selection\n",
       ":   AIC(n)\n",
       ":   15HQ(n)\n",
       ":   15SC(n)\n",
       ":   15FPE(n)\n",
       ":   16\n",
       "\n",
       "\n",
       "$criteria\n",
       ":   \n",
       "A matrix: 4 × 100 of type dbl\n",
       "\n",
       "| <!--/--> | 1 | 2 | 3 | 4 | 5 | 6 | 7 | 8 | 9 | 10 | ⋯ | 91 | 92 | 93 | 94 | 95 | 96 | 97 | 98 | 99 | 100 |\n",
       "|---|---|---|---|---|---|---|---|---|---|---|---|---|---|---|---|---|---|---|---|---|---|\n",
       "| AIC(n) | -1.316773e+01 | -1.322697e+01 | -1.302504e+01 | -1.289229e+01 | -1.267817e+01 | -1.270351e+01 | -1.258651e+01 | -1.259311e+01 | -1.248017e+01 | -1.254113e+01 | ⋯ | -Inf | -Inf | -Inf | -Inf | -Inf | -Inf | -Inf | -Inf | -Inf | -Inf |\n",
       "| HQ(n) | -1.307726e+01 | -1.307618e+01 | -1.281393e+01 | -1.262087e+01 | -1.234643e+01 | -1.231146e+01 | -1.213415e+01 | -1.208043e+01 | -1.190717e+01 | -1.190782e+01 | ⋯ | -Inf | -Inf | -Inf | -Inf | -Inf | -Inf | -Inf | -Inf | -Inf | -Inf |\n",
       "| SC(n) | -1.289019e+01 | -1.276439e+01 | -1.237743e+01 | -1.205965e+01 | -1.166050e+01 | -1.150081e+01 | -1.119878e+01 | -1.102035e+01 | -1.072238e+01 | -1.059831e+01 | ⋯ | -Inf | -Inf | -Inf | -Inf | -Inf | -Inf | -Inf | -Inf | -Inf | -Inf |\n",
       "| FPE(n) |  1.913610e-06 |  1.811632e-06 |  2.239633e-06 |  2.605448e-06 |  3.326310e-06 |  3.394694e-06 |  4.078060e-06 |  4.451033e-06 |  5.685735e-06 |  6.436721e-06 | ⋯ |    0 |    0 |    0 |    0 |    0 |    0 |    0 |    0 |    0 |    0 |\n",
       "\n",
       "\n",
       "\n",
       "\n"
      ],
      "text/plain": [
       "$selection\n",
       "AIC(n)  HQ(n)  SC(n) FPE(n) \n",
       "    15     15     15     16 \n",
       "\n",
       "$criteria\n",
       "                   1             2             3             4             5\n",
       "AIC(n) -1.316773e+01 -1.322697e+01 -1.302504e+01 -1.289229e+01 -1.267817e+01\n",
       "HQ(n)  -1.307726e+01 -1.307618e+01 -1.281393e+01 -1.262087e+01 -1.234643e+01\n",
       "SC(n)  -1.289019e+01 -1.276439e+01 -1.237743e+01 -1.205965e+01 -1.166050e+01\n",
       "FPE(n)  1.913610e-06  1.811632e-06  2.239633e-06  2.605448e-06  3.326310e-06\n",
       "                   6             7             8             9            10\n",
       "AIC(n) -1.270351e+01 -1.258651e+01 -1.259311e+01 -1.248017e+01 -1.254113e+01\n",
       "HQ(n)  -1.231146e+01 -1.213415e+01 -1.208043e+01 -1.190717e+01 -1.190782e+01\n",
       "SC(n)  -1.150081e+01 -1.119878e+01 -1.102035e+01 -1.072238e+01 -1.059831e+01\n",
       "FPE(n)  3.394694e-06  4.078060e-06  4.451033e-06  5.685735e-06  6.436721e-06\n",
       "                  11            12            13            14   15   16   17\n",
       "AIC(n) -1.285676e+01 -1.303864e+01 -1.331310e+01 -1.453593e+01 -Inf -Inf -Inf\n",
       "HQ(n)  -1.216314e+01 -1.228470e+01 -1.249884e+01 -1.366135e+01 -Inf -Inf -Inf\n",
       "SC(n)  -1.072891e+01 -1.072576e+01 -1.081518e+01 -1.185298e+01 -Inf -Inf -Inf\n",
       "FPE(n)  6.110992e-06  7.525122e-06  1.066363e-05  1.038168e-05  NaN    0    0\n",
       "         18   19   20   21   22   23   24   25   26   27   28   29   30   31\n",
       "AIC(n) -Inf -Inf -Inf -Inf -Inf -Inf -Inf -Inf -Inf -Inf -Inf -Inf -Inf -Inf\n",
       "HQ(n)  -Inf -Inf -Inf -Inf -Inf -Inf -Inf -Inf -Inf -Inf -Inf -Inf -Inf -Inf\n",
       "SC(n)  -Inf -Inf -Inf -Inf -Inf -Inf -Inf -Inf -Inf -Inf -Inf -Inf -Inf -Inf\n",
       "FPE(n)    0    0    0    0    0    0    0    0    0    0    0    0    0    0\n",
       "         32   33   34   35   36   37   38   39   40   41   42   43   44   45\n",
       "AIC(n) -Inf -Inf -Inf -Inf -Inf -Inf -Inf -Inf -Inf -Inf -Inf -Inf -Inf -Inf\n",
       "HQ(n)  -Inf -Inf -Inf -Inf -Inf -Inf -Inf -Inf -Inf -Inf -Inf -Inf -Inf -Inf\n",
       "SC(n)  -Inf -Inf -Inf -Inf -Inf -Inf -Inf -Inf -Inf -Inf -Inf -Inf -Inf -Inf\n",
       "FPE(n)    0    0    0    0    0    0    0    0    0    0    0    0    0    0\n",
       "         46   47   48   49   50   51   52   53   54   55   56   57   58   59\n",
       "AIC(n) -Inf -Inf -Inf -Inf -Inf -Inf -Inf -Inf -Inf -Inf -Inf -Inf -Inf -Inf\n",
       "HQ(n)  -Inf -Inf -Inf -Inf -Inf -Inf -Inf -Inf -Inf -Inf -Inf -Inf -Inf -Inf\n",
       "SC(n)  -Inf -Inf -Inf -Inf -Inf -Inf -Inf -Inf -Inf -Inf -Inf -Inf -Inf -Inf\n",
       "FPE(n)    0    0    0    0    0    0    0    0    0    0    0    0    0    0\n",
       "         60   61   62   63   64   65   66   67   68   69   70   71   72   73\n",
       "AIC(n) -Inf -Inf -Inf -Inf -Inf -Inf -Inf -Inf -Inf -Inf -Inf -Inf -Inf -Inf\n",
       "HQ(n)  -Inf -Inf -Inf -Inf -Inf -Inf -Inf -Inf -Inf -Inf -Inf -Inf -Inf -Inf\n",
       "SC(n)  -Inf -Inf -Inf -Inf -Inf -Inf -Inf -Inf -Inf -Inf -Inf -Inf -Inf -Inf\n",
       "FPE(n)    0    0    0    0    0    0    0    0    0    0    0    0    0    0\n",
       "         74   75   76   77   78   79   80   81   82   83   84   85   86   87\n",
       "AIC(n) -Inf -Inf -Inf -Inf -Inf -Inf -Inf -Inf -Inf -Inf -Inf -Inf -Inf -Inf\n",
       "HQ(n)  -Inf -Inf -Inf -Inf -Inf -Inf -Inf -Inf -Inf -Inf -Inf -Inf -Inf -Inf\n",
       "SC(n)  -Inf -Inf -Inf -Inf -Inf -Inf -Inf -Inf -Inf -Inf -Inf -Inf -Inf -Inf\n",
       "FPE(n)    0    0    0    0    0    0    0    0    0    0    0    0    0    0\n",
       "         88   89   90   91   92   93   94   95   96   97   98   99  100\n",
       "AIC(n) -Inf -Inf -Inf -Inf -Inf -Inf -Inf -Inf -Inf -Inf -Inf -Inf -Inf\n",
       "HQ(n)  -Inf -Inf -Inf -Inf -Inf -Inf -Inf -Inf -Inf -Inf -Inf -Inf -Inf\n",
       "SC(n)  -Inf -Inf -Inf -Inf -Inf -Inf -Inf -Inf -Inf -Inf -Inf -Inf -Inf\n",
       "FPE(n)    0    0    0    0    0    0    0    0    0    0    0    0    0\n"
      ]
     },
     "metadata": {},
     "output_type": "display_data"
    }
   ],
   "source": [
    "VARselect(Y, lag.max=100, type=\"const\")"
   ]
  },
  {
   "cell_type": "code",
   "execution_count": 40,
   "id": "bafab06e-9322-493e-b9c8-519c0d95d439",
   "metadata": {},
   "outputs": [
    {
     "data": {
      "text/plain": [
       "\n",
       "VAR Estimation Results:\n",
       "========================= \n",
       "Endogenous variables: GDP, SO2 \n",
       "Deterministic variables: const \n",
       "Sample size: 116 \n",
       "Log Likelihood: 407.179 \n",
       "Roots of the characteristic polynomial:\n",
       "1.035 0.9479 0.9479 0.9398 0.9398 0.9371 0.9371 0.9113 0.9113 0.9084 0.9084 0.8922 0.8922 0.8861 0.8861 0.8797 0.8797 0.8789 0.8789 0.8568 0.8568 0.8429 0.8429 0.8219 0.8219 0.7373  0.72  0.72 0.6677 0.6677\n",
       "Call:\n",
       "VAR(y = Y, p = 15, type = \"const\")\n",
       "\n",
       "\n",
       "Estimation results for equation GDP: \n",
       "==================================== \n",
       "GDP = GDP.l1 + SO2.l1 + GDP.l2 + SO2.l2 + GDP.l3 + SO2.l3 + GDP.l4 + SO2.l4 + GDP.l5 + SO2.l5 + GDP.l6 + SO2.l6 + GDP.l7 + SO2.l7 + GDP.l8 + SO2.l8 + GDP.l9 + SO2.l9 + GDP.l10 + SO2.l10 + GDP.l11 + SO2.l11 + GDP.l12 + SO2.l12 + GDP.l13 + SO2.l13 + GDP.l14 + SO2.l14 + GDP.l15 + SO2.l15 + const \n",
       "\n",
       "          Estimate Std. Error t value Pr(>|t|)    \n",
       "GDP.l1   0.5114903  0.1128555   4.532 1.89e-05 ***\n",
       "SO2.l1  -0.1034787  0.0328896  -3.146  0.00228 ** \n",
       "GDP.l2  -0.1444627  0.1266866  -1.140  0.25736    \n",
       "SO2.l2  -0.0136462  0.0349587  -0.390  0.69725    \n",
       "GDP.l3  -0.0077772  0.1293830  -0.060  0.95221    \n",
       "SO2.l3  -0.0449249  0.0357272  -1.257  0.21204    \n",
       "GDP.l4  -0.2409512  0.1295603  -1.860  0.06638 .  \n",
       "SO2.l4  -0.0166981  0.0355813  -0.469  0.64006    \n",
       "GDP.l5   0.0062467  0.1298184   0.048  0.96173    \n",
       "SO2.l5   0.0597432  0.0364895   1.637  0.10527    \n",
       "GDP.l6  -0.1038138  0.1293406  -0.803  0.42442    \n",
       "SO2.l6   0.0044496  0.0402983   0.110  0.91234    \n",
       "GDP.l7   0.0253063  0.1276886   0.198  0.84337    \n",
       "SO2.l7   0.0307866  0.0422592   0.729  0.46830    \n",
       "GDP.l8  -0.0674729  0.1286395  -0.525  0.60129    \n",
       "SO2.l8  -0.0000734  0.0420151  -0.002  0.99861    \n",
       "GDP.l9  -0.1185737  0.1337995  -0.886  0.37801    \n",
       "SO2.l9   0.0164526  0.0429554   0.383  0.70266    \n",
       "GDP.l10 -0.0567948  0.1345131  -0.422  0.67393    \n",
       "SO2.l10 -0.0027044  0.0429691  -0.063  0.94996    \n",
       "GDP.l11  0.1166750  0.1362132   0.857  0.39410    \n",
       "SO2.l11 -0.0079206  0.0419296  -0.189  0.85062    \n",
       "GDP.l12 -0.0557100  0.1377565  -0.404  0.68693    \n",
       "SO2.l12  0.0004282  0.0424208   0.010  0.99197    \n",
       "GDP.l13  0.0834833  0.1386369   0.602  0.54866    \n",
       "SO2.l13  0.0333188  0.0417236   0.799  0.42677    \n",
       "GDP.l14 -0.1885355  0.1357881  -1.388  0.16863    \n",
       "SO2.l14  0.0185326  0.0402052   0.461  0.64601    \n",
       "GDP.l15  0.1341585  0.1231167   1.090  0.27893    \n",
       "SO2.l15 -0.0279552  0.0363530  -0.769  0.44403    \n",
       "const    0.0147362  0.0059920   2.459  0.01595 *  \n",
       "---\n",
       "Signif. codes:  0 '***' 0.001 '**' 0.01 '*' 0.05 '.' 0.1 ' ' 1\n",
       "\n",
       "\n",
       "Residual standard error: 0.02703 on 85 degrees of freedom\n",
       "Multiple R-Squared: 0.4104,\tAdjusted R-squared: 0.2024 \n",
       "F-statistic: 1.973 on 30 and 85 DF,  p-value: 0.008034 \n",
       "\n",
       "\n",
       "Estimation results for equation SO2: \n",
       "==================================== \n",
       "SO2 = GDP.l1 + SO2.l1 + GDP.l2 + SO2.l2 + GDP.l3 + SO2.l3 + GDP.l4 + SO2.l4 + GDP.l5 + SO2.l5 + GDP.l6 + SO2.l6 + GDP.l7 + SO2.l7 + GDP.l8 + SO2.l8 + GDP.l9 + SO2.l9 + GDP.l10 + SO2.l10 + GDP.l11 + SO2.l11 + GDP.l12 + SO2.l12 + GDP.l13 + SO2.l13 + GDP.l14 + SO2.l14 + GDP.l15 + SO2.l15 + const \n",
       "\n",
       "         Estimate Std. Error t value Pr(>|t|)   \n",
       "GDP.l1  -0.209932   0.389899  -0.538  0.59169   \n",
       "SO2.l1  -0.295619   0.113629  -2.602  0.01094 * \n",
       "GDP.l2   0.613901   0.437683   1.403  0.16437   \n",
       "SO2.l2  -0.076806   0.120777  -0.636  0.52653   \n",
       "GDP.l3  -0.617988   0.446999  -1.383  0.17043   \n",
       "SO2.l3   0.037059   0.123432   0.300  0.76473   \n",
       "GDP.l4  -0.193807   0.447612  -0.433  0.66613   \n",
       "SO2.l4   0.046880   0.122928   0.381  0.70389   \n",
       "GDP.l5  -0.517461   0.448503  -1.154  0.25184   \n",
       "SO2.l5   0.418806   0.126066   3.322  0.00132 **\n",
       "GDP.l6  -0.056443   0.446853  -0.126  0.89978   \n",
       "SO2.l6   0.099030   0.139225   0.711  0.47885   \n",
       "GDP.l7   0.567501   0.441145   1.286  0.20179   \n",
       "SO2.l7   0.007278   0.145999   0.050  0.96036   \n",
       "GDP.l8  -1.197154   0.444430  -2.694  0.00851 **\n",
       "SO2.l8   0.178468   0.145156   1.229  0.22228   \n",
       "GDP.l9   0.128503   0.462257   0.278  0.78170   \n",
       "SO2.l9   0.063607   0.148405   0.429  0.66929   \n",
       "GDP.l10  0.048769   0.464723   0.105  0.91667   \n",
       "SO2.l10  0.027070   0.148452   0.182  0.85574   \n",
       "GDP.l11 -0.754723   0.470597  -1.604  0.11248   \n",
       "SO2.l11  0.223602   0.144861   1.544  0.12641   \n",
       "GDP.l12  0.223543   0.475928   0.470  0.63977   \n",
       "SO2.l12  0.102376   0.146557   0.699  0.48675   \n",
       "GDP.l13  0.178618   0.478970   0.373  0.71013   \n",
       "SO2.l13  0.170360   0.144149   1.182  0.24057   \n",
       "GDP.l14 -0.160483   0.469128  -0.342  0.73313   \n",
       "SO2.l14  0.209655   0.138903   1.509  0.13491   \n",
       "GDP.l15 -0.221529   0.425350  -0.521  0.60385   \n",
       "SO2.l15  0.128846   0.125594   1.026  0.30785   \n",
       "const    0.017484   0.020701   0.845  0.40071   \n",
       "---\n",
       "Signif. codes:  0 '***' 0.001 '**' 0.01 '*' 0.05 '.' 0.1 ' ' 1\n",
       "\n",
       "\n",
       "Residual standard error: 0.09339 on 85 degrees of freedom\n",
       "Multiple R-Squared: 0.4278,\tAdjusted R-squared: 0.2258 \n",
       "F-statistic: 2.118 on 30 and 85 DF,  p-value: 0.003848 \n",
       "\n",
       "\n",
       "\n",
       "Covariance matrix of residuals:\n",
       "          GDP       SO2\n",
       "GDP 0.0007307 0.0008176\n",
       "SO2 0.0008176 0.0087219\n",
       "\n",
       "Correlation matrix of residuals:\n",
       "       GDP    SO2\n",
       "GDP 1.0000 0.3239\n",
       "SO2 0.3239 1.0000\n",
       "\n"
      ]
     },
     "metadata": {},
     "output_type": "display_data"
    },
    {
     "data": {
      "image/png": "[encoded data removed]",
      "text/plain": [
       "Plot with title \"PACF Residuals\""
      ]
     },
     "metadata": {
      "image/png": {
       "height": 420,
       "width": 420
      }
     },
     "output_type": "display_data"
    },
    {
     "data": {
      "image/png": "[encoded data removed]",
      "text/plain": [
       "Plot with title \"PACF Residuals\""
      ]
     },
     "metadata": {
      "image/png": {
       "height": 420,
       "width": 420
      }
     },
     "output_type": "display_data"
    }
   ],
   "source": [
    "var3a <- VAR(Y, p=15, type=\"const\")\n",
    "summary(var3a)\n",
    "plot(var3a)"
   ]
  },
  {
   "cell_type": "code",
   "execution_count": 45,
   "id": "aa253d6b-5f72-43d5-a7c4-f551b1a79b52",
   "metadata": {},
   "outputs": [
    {
     "data": {
      "text/plain": [
       "\n",
       "\tPortmanteau Test (adjusted)\n",
       "\n",
       "data:  Residuals of VAR object var3a\n",
       "Chi-squared = 31.32, df = 20, p-value = 0.0511\n",
       "\n",
       "$serial\n",
       "\n",
       "\tPortmanteau Test (adjusted)\n",
       "\n",
       "data:  Residuals of VAR object var3a\n",
       "Chi-squared = 31.32, df = 20, p-value = 0.0511\n",
       "\n"
      ]
     },
     "metadata": {},
     "output_type": "display_data"
    },
    {
     "data": {
      "text/plain": [
       "\n",
       "\tBreusch-Godfrey LM test\n",
       "\n",
       "data:  Residuals of VAR object var3a\n",
       "Chi-squared = 151.79, df = 120, p-value = 0.02639\n",
       "\n",
       "$serial\n",
       "\n",
       "\tBreusch-Godfrey LM test\n",
       "\n",
       "data:  Residuals of VAR object var3a\n",
       "Chi-squared = 151.79, df = 120, p-value = 0.02639\n",
       "\n"
      ]
     },
     "metadata": {},
     "output_type": "display_data"
    }
   ],
   "source": [
    "serial.test(var3a, type=\"PT.adjusted\", lags.pt=20)\n",
    "serial.test(var3a, type=\"BG\", lags.bg=30)"
   ]
  },
  {
   "cell_type": "code",
   "execution_count": 46,
   "id": "14ba6fde-d6b0-4b41-a6a0-49f7d08f23f0",
   "metadata": {},
   "outputs": [
    {
     "data": {
      "image/png": "[encoded data removed]",
      "text/plain": [
       "Plot with title \"Rec-CUSUM of equation SO2\""
      ]
     },
     "metadata": {
      "image/png": {
       "height": 420,
       "width": 420
      }
     },
     "output_type": "display_data"
    }
   ],
   "source": [
    "var3a.stabil <- stability(var3a,type=\"Rec-CUSUM\")\n",
    "plot(var3a.stabil)"
   ]
  },
  {
   "cell_type": "code",
   "execution_count": 48,
   "id": "9c6f26a7-947b-4b69-92c3-413c7d8b9f67",
   "metadata": {},
   "outputs": [
    {
     "data": {
      "image/png": "[encoded data removed]",
      "text/plain": [
       "plot without title"
      ]
     },
     "metadata": {
      "image/png": {
       "height": 420,
       "width": 420
      }
     },
     "output_type": "display_data"
    }
   ],
   "source": [
    "irf_y <- irf(var3a,impulse=\"GDP\",response=\"GDP\",n.ahead=20,ortho=FALSE,boot=TRUE,ci=0.95,runs=1000)\n",
    "plot(irf_y)"
   ]
  },
  {
   "cell_type": "code",
   "execution_count": 49,
   "id": "5bd9a50e-8de4-4c79-a263-173a7ee7c46c",
   "metadata": {},
   "outputs": [
    {
     "data": {
      "image/png": "[encoded data removed]",
      "text/plain": [
       "plot without title"
      ]
     },
     "metadata": {
      "image/png": {
       "height": 420,
       "width": 420
      }
     },
     "output_type": "display_data"
    }
   ],
   "source": [
    "irf_y2 <- irf(var3a,impulse=\"SO2\",response=\"GDP\",n.ahead=20,ortho=FALSE,boot=TRUE,ci=0.95,runs=1000)\n",
    "plot(irf_y2)"
   ]
  }
 ],
 "metadata": {
  "kernelspec": {
   "display_name": "R",
   "language": "R",
   "name": "ir"
  },
  "language_info": {
   "codemirror_mode": "r",
   "file_extension": ".r",
   "mimetype": "text/x-r-source",
   "name": "R",
   "pygments_lexer": "r",
   "version": "4.3.1"
  }
 },
 "nbformat": 4,
 "nbformat_minor": 5
}
